{
 "cells": [
  {
   "cell_type": "code",
   "execution_count": 1,
   "metadata": {},
   "outputs": [],
   "source": [
    "from dataclasses import dataclass\n",
    "from enum import Enum\n",
    "import os\n",
    "import pandas as pd\n",
    "import numpy as np\n",
    "\n",
    "CONNECTOMES_ROOT = \"connectomes-csv\"\n",
    "\n",
    "# Utility functions and classes:\n",
    "class ConnectomeKind(Enum):\n",
    "    FA = 0\n",
    "    LN = 1\n",
    "    NWS = 2\n",
    "    WS = 3\n",
    "    \n",
    "@dataclass(frozen=True)\n",
    "class Measurement:\n",
    "    subject_ID: str\n",
    "    kind: ConnectomeKind\n",
    "    \n",
    "    @classmethod\n",
    "    def from_filename(cls, filename: str):\n",
    "        subject_ID = filename.split(\"-\")[1]\n",
    "        kind_str = filename.split(\"-\")[4].split(\".\")[0]\n",
    "        kind_from_str = {\n",
    "            \"fa\": ConnectomeKind.FA,\n",
    "            \"ln\": ConnectomeKind.LN,\n",
    "            \"nws\": ConnectomeKind.NWS,\n",
    "            \"ws\": ConnectomeKind.WS\n",
    "        }\n",
    "        return Measurement(subject_ID, kind_from_str[kind_str])\n",
    "    \n",
    "def read_connectomes() -> dict[str, np.array]: # subject_ID -> (87, 87, 4)\n",
    "    connectomes = {}\n",
    "    \n",
    "    for filename in os.listdir(CONNECTOMES_ROOT):\n",
    "        m = Measurement.from_filename(filename)\n",
    "        \n",
    "        if m.subject_ID not in connectomes.keys():\n",
    "            connectomes[m.subject_ID] = np.zeros(shape=(87, 87, 4), dtype=float)\n",
    "            \n",
    "        path = os.path.join(CONNECTOMES_ROOT, filename)\n",
    "        connectomes[m.subject_ID][:, :, m.kind.value] = pd.read_csv(path, header=None).to_numpy()\n",
    "        \n",
    "    return connectomes\n",
    "     \n",
    "connectomes = read_connectomes()"
   ]
  },
  {
   "cell_type": "code",
   "execution_count": 2,
   "metadata": {},
   "outputs": [],
   "source": [
    "class Sex(Enum):\n",
    "    MALE = 0\n",
    "    FEMALE = 1\n",
    "    \n",
    "@dataclass(frozen=True)\n",
    "class Label:\n",
    "    birth_age: float\n",
    "    sex: Sex\n",
    "    birth_weight: float\n",
    "    \n",
    "    @classmethod\n",
    "    def from_row(cls, row: pd.Series):\n",
    "        age = row[\"birth_age\"]\n",
    "        weight = row[\"birth_weight\"]\n",
    "        sex_dict = {\n",
    "            \"male\": Sex.MALE,\n",
    "            \"female\": Sex.FEMALE\n",
    "        }\n",
    "        sex = sex_dict[row[\"sex\"]]\n",
    "        return Label(age, sex, weight)\n",
    "    \n",
    "\n",
    "def read_labels(connectomes: dict[str, np.array]) -> dict[str, Label]:\n",
    "    participants = pd.read_csv(\"participants.tsv\", sep=\"\\t\")\n",
    "    labels = {}\n",
    "    \n",
    "    for _, row in participants.iterrows():\n",
    "        subject_ID = row[\"participant_id\"]\n",
    "        if subject_ID in connectomes.keys():\n",
    "            labels[subject_ID] = Label.from_row(row)\n",
    "    \n",
    "    return labels\n",
    "            \n",
    "labels = read_labels(connectomes)"
   ]
  },
  {
   "cell_type": "code",
   "execution_count": 28,
   "metadata": {},
   "outputs": [
    {
     "data": {
      "text/plain": [
       "6.750155989720952e-14"
      ]
     },
     "execution_count": 28,
     "metadata": {},
     "output_type": "execute_result"
    }
   ],
   "source": [
    "from sklearn.linear_model import LinearRegression\n",
    "\n",
    "N = len(connectomes)\n",
    "flattened_features = 87*87*4\n",
    "\n",
    "X = np.zeros(shape=(N, flattened_features), dtype=float)\n",
    "y_age = np.zeros(shape=(N,), dtype=float)\n",
    "\n",
    "for i, k in enumerate(connectomes.keys()):\n",
    "    X[i] = connectomes[k].reshape(-1)\n",
    "    y_age[i] = labels[k].birth_age\n",
    "\n",
    "\n",
    "lr = LinearRegression()\n",
    "lr = lr.fit(X, y_age)\n",
    "\n",
    "predictions = lr.predict(X)\n",
    "np.max(np.absolute(predictions - y_age))"
   ]
  },
  {
   "cell_type": "code",
   "execution_count": 83,
   "metadata": {},
   "outputs": [
    {
     "data": {
      "text/plain": [
       "1.7985612998927536e-14"
      ]
     },
     "execution_count": 83,
     "metadata": {},
     "output_type": "execute_result"
    }
   ],
   "source": [
    "y_weight = np.zeros(shape=(N,), dtype=float)\n",
    "\n",
    "for i, k in enumerate(connectomes.keys()):\n",
    "    y_weight[i] = labels[k].birth_weight\n",
    "\n",
    "no_outliers_idx = (y_weight > 0) & (y_weight < 5)\n",
    "\n",
    "lr = LinearRegression()\n",
    "lr = lr.fit(X[no_outliers_idx], y_weight[no_outliers_idx])\n",
    "\n",
    "predictions = lr.predict(X[no_outliers_idx])\n",
    "np.max(np.absolute(predictions - y_weight[no_outliers_idx]))\n",
    "# list(zip(predictions, y_weight))[217]"
   ]
  },
  {
   "cell_type": "code",
   "execution_count": 85,
   "metadata": {},
   "outputs": [
    {
     "data": {
      "text/plain": [
       "0.978494623655914"
      ]
     },
     "execution_count": 85,
     "metadata": {},
     "output_type": "execute_result"
    }
   ],
   "source": [
    "from sklearn.naive_bayes import GaussianNB\n",
    "\n",
    "y_sex = np.zeros(shape=(N,), dtype=int)\n",
    "\n",
    "for i, k in enumerate(connectomes.keys()):\n",
    "    y_sex[i] = labels[k].sex.value\n",
    "\n",
    "classifier = GaussianNB()\n",
    "classifier = classifier.fit(X, y_sex)\n",
    "classifier.score(X, y_sex)"
   ]
  }
 ],
 "metadata": {
  "kernelspec": {
   "display_name": "venv",
   "language": "python",
   "name": "python3"
  },
  "language_info": {
   "codemirror_mode": {
    "name": "ipython",
    "version": 3
   },
   "file_extension": ".py",
   "mimetype": "text/x-python",
   "name": "python",
   "nbconvert_exporter": "python",
   "pygments_lexer": "ipython3",
   "version": "3.11.3"
  },
  "orig_nbformat": 4
 },
 "nbformat": 4,
 "nbformat_minor": 2
}
