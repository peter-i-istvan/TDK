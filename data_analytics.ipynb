{
 "cells": [
  {
   "cell_type": "markdown",
   "metadata": {
    "collapsed": false
   },
   "source": [
    "Read connectomes"
   ]
  },
  {
   "cell_type": "code",
   "execution_count": null,
   "metadata": {
    "ExecuteTime": {
     "end_time": "2023-09-14T22:45:54.705437484Z",
     "start_time": "2023-09-14T22:45:49.523772576Z"
    }
   },
   "outputs": [],
   "source": [
    "from dataclasses import dataclass\n",
    "from enum import Enum\n",
    "import os\n",
    "import pandas as pd\n",
    "import numpy as np\n",
    "\n",
    "CONNECTOMES_ROOT = \"connectomes-csv\"\n",
    "\n",
    "# Utility functions and classes:\n",
    "class ConnectomeKind(Enum):\n",
    "    FA = 0\n",
    "    LN = 1\n",
    "    NWS = 2\n",
    "    WS = 3\n",
    "    \n",
    "@dataclass(frozen=True)\n",
    "class Measurement:\n",
    "    subject_ID: str\n",
    "    kind: ConnectomeKind\n",
    "    \n",
    "    @classmethod\n",
    "    def from_filename(cls, filename: str):\n",
    "        subject_ID = filename.split(\"-\")[1]\n",
    "        kind_str = filename.split(\"-\")[4].split(\".\")[0]\n",
    "        kind_from_str = {\n",
    "            \"fa\": ConnectomeKind.FA,\n",
    "            \"ln\": ConnectomeKind.LN,\n",
    "            \"nws\": ConnectomeKind.NWS,\n",
    "            \"ws\": ConnectomeKind.WS\n",
    "        }\n",
    "        return Measurement(subject_ID, kind_from_str[kind_str])\n",
    "    \n",
    "def read_connectomes() -> dict[str, np.array]: # subject_ID -> (87, 87, 4)\n",
    "    connectomes = {}\n",
    "    \n",
    "    for filename in os.listdir(CONNECTOMES_ROOT):\n",
    "        m = Measurement.from_filename(filename)\n",
    "        \n",
    "        if m.subject_ID not in connectomes.keys():\n",
    "            connectomes[m.subject_ID] = np.zeros(shape=(87, 87, 4), dtype=float)\n",
    "            \n",
    "        path = os.path.join(CONNECTOMES_ROOT, filename)\n",
    "        connectomes[m.subject_ID][:, :, m.kind.value] = pd.read_csv(path, header=None).to_numpy()\n",
    "        \n",
    "    return connectomes\n",
    "     \n",
    "connectomes = read_connectomes()"
   ]
  },
  {
   "cell_type": "markdown",
   "metadata": {
    "collapsed": false
   },
   "source": [
    "Read labels"
   ]
  },
  {
   "cell_type": "code",
   "execution_count": null,
   "metadata": {
    "ExecuteTime": {
     "end_time": "2023-09-14T22:45:54.727995952Z",
     "start_time": "2023-09-14T22:45:54.705747074Z"
    }
   },
   "outputs": [],
   "source": [
    "class Sex(Enum):\n",
    "    MALE = 0\n",
    "    FEMALE = 1\n",
    "    \n",
    "@dataclass(frozen=True)\n",
    "class Label:\n",
    "    birth_age: float\n",
    "    scan_age: float\n",
    "    sex: Sex\n",
    "    birth_weight: float\n",
    "    \n",
    "    @classmethod\n",
    "    def from_row(cls, row: pd.Series):\n",
    "        age = row[\"birth_age\"]\n",
    "        scan_age = row[\"scan_age\"]\n",
    "        weight = row[\"birth_weight\"]\n",
    "        sex_dict = {\n",
    "            \"male\": Sex.MALE,\n",
    "            \"female\": Sex.FEMALE\n",
    "        }\n",
    "        sex = sex_dict[row[\"sex\"]]\n",
    "        return Label(age, scan_age, sex, weight)\n",
    "    \n",
    "\n",
    "def read_labels(connectomes: dict[str, np.array]) -> dict[str, Label]:\n",
    "    participants = pd.read_csv(\"combined.tsv\", sep=\"\\t\")\n",
    "    labels = {}\n",
    "    \n",
    "    for _, row in participants.iterrows():\n",
    "        subject_ID = row[\"participant_id\"]\n",
    "        if subject_ID in connectomes.keys():\n",
    "            labels[subject_ID] = Label.from_row(row)\n",
    "    \n",
    "    return labels\n",
    "            \n",
    "labels = read_labels(connectomes)"
   ]
  },
  {
   "cell_type": "markdown",
   "metadata": {
    "collapsed": false
   },
   "source": [
    "Convert to arrays and split"
   ]
  },
  {
   "cell_type": "code",
   "execution_count": null,
   "metadata": {
    "ExecuteTime": {
     "end_time": "2023-09-14T22:45:54.974635031Z",
     "start_time": "2023-09-14T22:45:54.728677732Z"
    },
    "collapsed": false
   },
   "outputs": [],
   "source": [
    "from sklearn.model_selection import train_test_split\n",
    "\n",
    "# Transform structured data into arrays\n",
    "N = len(connectomes)\n",
    "flattened_features = 87*87*4\n",
    "\n",
    "X = np.zeros(shape=(N, flattened_features), dtype=float)\n",
    "y_age = np.zeros(shape=(N,), dtype=float)\n",
    "y_sex = np.zeros(shape=(N,), dtype=int)\n",
    "y_scan = np.zeros(shape=(N,), dtype=float)\n",
    "\n",
    "for i, k in enumerate(connectomes.keys()):\n",
    "    X[i] = connectomes[k].reshape(-1)\n",
    "    y_age[i] = labels[k].birth_age\n",
    "    y_scan[i] = labels[k].scan_age\n",
    "    y_sex[i] = labels[k].sex.value\n",
    "    \n",
    "X_train, X_test, y_age_train, y_age_test, y_scan_train, y_scan_test, y_sex_train, y_sex_test = train_test_split(\n",
    "    X, y_age, y_scan, y_sex, test_size=0.3, random_state=42\n",
    ")\n",
    "\n",
    "print(f\"No. of train samples: {X_train.shape[0]}\")\n",
    "print(f\"No. of test samples: {X_test.shape[0]}\")"
   ]
  },
  {
   "cell_type": "markdown",
   "metadata": {
    "collapsed": false
   },
   "source": [
    "LR baseline for age regression"
   ]
  },
  {
   "cell_type": "code",
   "execution_count": null,
   "metadata": {
    "ExecuteTime": {
     "end_time": "2023-09-14T22:46:06.451646129Z",
     "start_time": "2023-09-14T22:45:54.976644852Z"
    }
   },
   "outputs": [],
   "source": [
    "# Birth age\n",
    "from sklearn.linear_model import LinearRegression\n",
    "from sklearn.linear_model import Lasso, Ridge\n",
    "from sklearn.metrics import  mean_squared_error, r2_score, mean_absolute_percentage_error, mean_absolute_error\n",
    "from scipy.stats import pearsonr\n",
    "\n",
    "for Model, name in ((Lasso, \"Lasso\"), (Ridge, \"Ridge\")):\n",
    "    for alpha in [0.1, 1, 10, 100, 1_000, 10_000]:\n",
    "        model = Model(alpha=alpha, random_state=42)\n",
    "        model = model.fit(X_train, y_age_train)\n",
    "        y_age_pred = model.predict(X_test)\n",
    "    \n",
    "        mae = mean_absolute_error(y_age_test, y_age_pred)\n",
    "        corr, _ = pearsonr(y_age_test, y_age_pred)\n",
    "        r2 = r2_score(y_age_test, y_age_pred)\n",
    "\n",
    "        print(f\"{name}, {alpha:>5} MAE: {mae:.4f}\\tcorr: {corr:.4f}\\tR2: {r2:.4f}\")"
   ]
  },
  {
   "cell_type": "code",
   "execution_count": null,
   "metadata": {},
   "outputs": [],
   "source": [
    "# Scan age\n",
    "from sklearn.linear_model import LinearRegression\n",
    "from sklearn.linear_model import Lasso, Ridge\n",
    "from sklearn.metrics import  mean_squared_error, r2_score, mean_absolute_percentage_error, mean_absolute_error\n",
    "from scipy.stats import pearsonr\n",
    "\n",
    "for Model, name in ((Lasso, \"Lasso\"), (Ridge, \"Ridge\")):\n",
    "    for alpha in [0.1, 1, 10, 100, 1_000, 10_000]:\n",
    "        model = Model(alpha=alpha, random_state=42)\n",
    "        model = model.fit(X_train, y_scan_train)\n",
    "        y_scan_pred = model.predict(X_test)\n",
    "    \n",
    "        mae = mean_absolute_error(y_scan_test, y_scan_pred)\n",
    "        corr, _ = pearsonr(y_scan_test, y_scan_pred)\n",
    "        r2 = r2_score(y_scan_test, y_scan_pred)\n",
    "\n",
    "        print(f\"{name}, {alpha:>5} MAE: {mae:.4f}\\tcorr: {corr:.4f}\\tR2: {r2:.4f}\")"
   ]
  },
  {
   "cell_type": "code",
   "execution_count": null,
   "metadata": {
    "ExecuteTime": {
     "end_time": "2023-09-14T22:50:05.585618797Z",
     "start_time": "2023-09-14T22:46:06.453502310Z"
    },
    "collapsed": false
   },
   "outputs": [],
   "source": [
    "from sklearn.ensemble import RandomForestRegressor\n",
    "for n_estimators in [1, 2, 3, 5, 10, 20, 40, 80]:\n",
    "    rf_regressor = RandomForestRegressor(n_estimators=n_estimators, random_state=42)\n",
    "    rf_regressor = rf_regressor.fit(X_train, y_age_train)\n",
    "    y_age_pred = rf_regressor.predict(X_test)\n",
    "    \n",
    "    mse = mean_squared_error(y_age_test, y_age_pred)\n",
    "    absolute_errors = np.abs(y_age_test - y_age_pred)\n",
    "    mae = np.mean(absolute_errors)\n",
    "    stdae = np.std(absolute_errors)\n",
    "    percentage_errors = absolute_errors / y_age_test\n",
    "    mape = np.mean(percentage_errors)\n",
    "    stdape = np.std(percentage_errors)\n",
    "    r2 = r2_score(y_age_test, y_age_pred)\n",
    "    corr, _ = pearsonr(y_age_test, y_age_pred)\n",
    "    \n",
    "    print(f\"\\nMSE:{mse:>7.4f} MAE:{mae:>7.4f}+-{stdae:>6.4f} corr:{corr:>7.4f} R2:{r2:>6.4f}\")"
   ]
  },
  {
   "cell_type": "code",
   "execution_count": null,
   "metadata": {},
   "outputs": [],
   "source": [
    "from sklearn.ensemble import RandomForestRegressor\n",
    "for n_estimators in [1, 2, 3, 5, 10, 20, 40, 80]:\n",
    "    rf_regressor = RandomForestRegressor(n_estimators=n_estimators, random_state=42)\n",
    "    rf_regressor = rf_regressor.fit(X_train, y_age_train)\n",
    "    y_scan_pred = rf_regressor.predict(X_test)\n",
    "    \n",
    "    mse = mean_squared_error(y_scan_test, y_scan_pred)\n",
    "    absolute_errors = np.abs(y_scan_test - y_scan_pred)\n",
    "    mae = np.mean(absolute_errors)\n",
    "    stdae = np.std(absolute_errors)\n",
    "    percentage_errors = absolute_errors / y_scan_test\n",
    "    mape = np.mean(percentage_errors)\n",
    "    stdape = np.std(percentage_errors)\n",
    "    r2 = r2_score(y_scan_test, y_scan_pred)\n",
    "    corr, _ = pearsonr(y_scan_test, y_scan_pred)\n",
    "    \n",
    "    print(f\"\\nMSE:{mse:>7.4f} MAE:{mae:>7.4f}+-{stdae:>6.4f} corr:{corr:>7.4f} R2:{r2:>6.4f}\")"
   ]
  },
  {
   "cell_type": "code",
   "execution_count": null,
   "metadata": {
    "ExecuteTime": {
     "end_time": "2023-09-14T22:50:05.588325928Z",
     "start_time": "2023-09-14T22:50:05.563876980Z"
    },
    "collapsed": false
   },
   "outputs": [],
   "source": [
    "np.var(y_age)"
   ]
  },
  {
   "cell_type": "code",
   "execution_count": null,
   "metadata": {
    "ExecuteTime": {
     "end_time": "2023-09-14T22:50:05.666049737Z",
     "start_time": "2023-09-14T22:50:05.564057290Z"
    }
   },
   "outputs": [],
   "source": [
    "from sklearn.naive_bayes import GaussianNB\n",
    "\n",
    "classifier = GaussianNB()\n",
    "classifier = classifier.fit(X_train, y_sex_train)\n",
    "Acc = classifier.score(X_test, y_sex_test)\n",
    "print(f\"Sex classification: Mean Acc. = {Acc}\")"
   ]
  },
  {
   "cell_type": "code",
   "execution_count": null,
   "metadata": {
    "ExecuteTime": {
     "end_time": "2023-09-14T22:50:07.418857402Z",
     "start_time": "2023-09-14T22:50:05.657081303Z"
    }
   },
   "outputs": [],
   "source": [
    "from sklearn.ensemble import RandomForestClassifier\n",
    "from sklearn.metrics import accuracy_score, classification_report, confusion_matrix\n",
    "\n",
    "y_sex_train = y_sex_train.astype(int)\n",
    "y_sex_test = y_sex_test.astype(int)\n",
    "\n",
    "for n_estimators in [1, 2, 3, 5, 10, 20, 40, 80]:\n",
    "    rf_classifier = RandomForestClassifier(n_estimators=n_estimators, random_state=42)\n",
    "    rf_classifier = rf_classifier.fit(X_train, y_sex_train)\n",
    "    y_sex_pred = rf_classifier.predict(X_test)\n",
    "    \n",
    "    accuracy = accuracy_score(y_sex_test, y_sex_pred)\n",
    "    report = classification_report(y_sex_test, y_sex_pred)\n",
    "    conf_matrix = confusion_matrix(y_sex_test, y_sex_pred)\n",
    "    \n",
    "    print(f\"Accuracy: {accuracy:.2f}\")\n",
    "    print(\"Classification Report:\\n\", report)\n",
    "    print(\"Confusion Matrix:\\n\", conf_matrix)\n",
    "    \n",
    "    print(f\"\\nAcc:{accuracy:>6.4f}\\nAccuracy report: {report}\\nConfusion matrix: {conf_matrix}\")"
   ]
  }
 ],
 "metadata": {
  "kernelspec": {
   "display_name": "venv",
   "language": "python",
   "name": "python3"
  },
  "language_info": {
   "codemirror_mode": {
    "name": "ipython",
    "version": 3
   },
   "file_extension": ".py",
   "mimetype": "text/x-python",
   "name": "python",
   "nbconvert_exporter": "python",
   "pygments_lexer": "ipython3",
   "version": "3.11.5"
  },
  "orig_nbformat": 4
 },
 "nbformat": 4,
 "nbformat_minor": 2
}
