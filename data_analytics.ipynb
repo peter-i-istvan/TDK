{
 "cells": [
  {
   "cell_type": "markdown",
   "source": [
    "Read connectomes"
   ],
   "metadata": {
    "collapsed": false
   }
  },
  {
   "cell_type": "code",
   "execution_count": 1,
   "metadata": {
    "ExecuteTime": {
     "end_time": "2023-09-14T22:45:54.705437484Z",
     "start_time": "2023-09-14T22:45:49.523772576Z"
    }
   },
   "outputs": [],
   "source": [
    "from dataclasses import dataclass\n",
    "from enum import Enum\n",
    "import os\n",
    "import pandas as pd\n",
    "import numpy as np\n",
    "\n",
    "CONNECTOMES_ROOT = \"connectomes-csv\"\n",
    "\n",
    "# Utility functions and classes:\n",
    "class ConnectomeKind(Enum):\n",
    "    FA = 0\n",
    "    LN = 1\n",
    "    NWS = 2\n",
    "    WS = 3\n",
    "    \n",
    "@dataclass(frozen=True)\n",
    "class Measurement:\n",
    "    subject_ID: str\n",
    "    kind: ConnectomeKind\n",
    "    \n",
    "    @classmethod\n",
    "    def from_filename(cls, filename: str):\n",
    "        subject_ID = filename.split(\"-\")[1]\n",
    "        kind_str = filename.split(\"-\")[4].split(\".\")[0]\n",
    "        kind_from_str = {\n",
    "            \"fa\": ConnectomeKind.FA,\n",
    "            \"ln\": ConnectomeKind.LN,\n",
    "            \"nws\": ConnectomeKind.NWS,\n",
    "            \"ws\": ConnectomeKind.WS\n",
    "        }\n",
    "        return Measurement(subject_ID, kind_from_str[kind_str])\n",
    "    \n",
    "def read_connectomes() -> dict[str, np.array]: # subject_ID -> (87, 87, 4)\n",
    "    connectomes = {}\n",
    "    \n",
    "    for filename in os.listdir(CONNECTOMES_ROOT):\n",
    "        m = Measurement.from_filename(filename)\n",
    "        \n",
    "        if m.subject_ID not in connectomes.keys():\n",
    "            connectomes[m.subject_ID] = np.zeros(shape=(87, 87, 4), dtype=float)\n",
    "            \n",
    "        path = os.path.join(CONNECTOMES_ROOT, filename)\n",
    "        connectomes[m.subject_ID][:, :, m.kind.value] = pd.read_csv(path, header=None).to_numpy()\n",
    "        \n",
    "    return connectomes\n",
    "     \n",
    "connectomes = read_connectomes()"
   ]
  },
  {
   "cell_type": "markdown",
   "source": [
    "Read labels"
   ],
   "metadata": {
    "collapsed": false
   }
  },
  {
   "cell_type": "code",
   "execution_count": 2,
   "metadata": {
    "ExecuteTime": {
     "end_time": "2023-09-14T22:45:54.727995952Z",
     "start_time": "2023-09-14T22:45:54.705747074Z"
    }
   },
   "outputs": [],
   "source": [
    "class Sex(Enum):\n",
    "    MALE = 0\n",
    "    FEMALE = 1\n",
    "    \n",
    "@dataclass(frozen=True)\n",
    "class Label:\n",
    "    birth_age: float\n",
    "    sex: Sex\n",
    "    birth_weight: float\n",
    "    \n",
    "    @classmethod\n",
    "    def from_row(cls, row: pd.Series):\n",
    "        age = row[\"birth_age\"]\n",
    "        weight = row[\"birth_weight\"]\n",
    "        sex_dict = {\n",
    "            \"male\": Sex.MALE,\n",
    "            \"female\": Sex.FEMALE\n",
    "        }\n",
    "        sex = sex_dict[row[\"sex\"]]\n",
    "        return Label(age, sex, weight)\n",
    "    \n",
    "\n",
    "def read_labels(connectomes: dict[str, np.array]) -> dict[str, Label]:\n",
    "    participants = pd.read_csv(\"participants.tsv\", sep=\"\\t\")\n",
    "    labels = {}\n",
    "    \n",
    "    for _, row in participants.iterrows():\n",
    "        subject_ID = row[\"participant_id\"]\n",
    "        if subject_ID in connectomes.keys():\n",
    "            labels[subject_ID] = Label.from_row(row)\n",
    "    \n",
    "    return labels\n",
    "            \n",
    "labels = read_labels(connectomes)"
   ]
  },
  {
   "cell_type": "markdown",
   "source": [
    "Convert to arrays and split"
   ],
   "metadata": {
    "collapsed": false
   }
  },
  {
   "cell_type": "code",
   "execution_count": 3,
   "outputs": [
    {
     "name": "stdout",
     "output_type": "stream",
     "text": [
      "No. of train samples: 488\n",
      "No. of test samples: 122\n"
     ]
    }
   ],
   "source": [
    "from sklearn.model_selection import train_test_split\n",
    "\n",
    "# Transform structured data into arrays\n",
    "N = len(connectomes)\n",
    "flattened_features = 87*87*4\n",
    "\n",
    "X = np.zeros(shape=(N, flattened_features), dtype=float)\n",
    "y_age = np.zeros(shape=(N,), dtype=float)\n",
    "y_sex = np.zeros(shape=(N,), dtype=int)\n",
    "\n",
    "for i, k in enumerate(connectomes.keys()):\n",
    "    X[i] = connectomes[k].reshape(-1)\n",
    "    y_age[i] = labels[k].birth_age\n",
    "    y_sex[i] = labels[k].sex.value\n",
    "    \n",
    "X_train, X_test, y_age_train, y_age_test, y_sex_train, y_sex_test = train_test_split(\n",
    "    X, y_age, y_sex, test_size=0.2, random_state=42\n",
    ")\n",
    "\n",
    "print(f\"No. of train samples: {X_train.shape[0]}\")\n",
    "print(f\"No. of test samples: {X_test.shape[0]}\")"
   ],
   "metadata": {
    "collapsed": false,
    "ExecuteTime": {
     "end_time": "2023-09-14T22:45:54.974635031Z",
     "start_time": "2023-09-14T22:45:54.728677732Z"
    }
   }
  },
  {
   "cell_type": "markdown",
   "source": [
    "LR baseline for age regression"
   ],
   "metadata": {
    "collapsed": false
   }
  },
  {
   "cell_type": "code",
   "execution_count": 4,
   "metadata": {
    "ExecuteTime": {
     "end_time": "2023-09-14T22:46:06.451646129Z",
     "start_time": "2023-09-14T22:45:54.976644852Z"
    }
   },
   "outputs": [
    {
     "name": "stderr",
     "output_type": "stream",
     "text": [
      "/home/i/WORK/TDK/lib/python3.11/site-packages/sklearn/linear_model/_coordinate_descent.py:628: ConvergenceWarning: Objective did not converge. You might want to increase the number of iterations, check the scale of the features or consider increasing regularisation. Duality gap: 1.844e+01, tolerance: 9.567e-01\n",
      "  model = cd_fast.enet_coordinate_descent(\n"
     ]
    },
    {
     "name": "stdout",
     "output_type": "stream",
     "text": [
      "Lasso,   0.1 MSE: 18.2917\tMAPE: 0.0899\tR2: -0.0401\n"
     ]
    },
    {
     "name": "stderr",
     "output_type": "stream",
     "text": [
      "/home/i/WORK/TDK/lib/python3.11/site-packages/sklearn/linear_model/_coordinate_descent.py:628: ConvergenceWarning: Objective did not converge. You might want to increase the number of iterations, check the scale of the features or consider increasing regularisation. Duality gap: 3.366e+01, tolerance: 9.567e-01\n",
      "  model = cd_fast.enet_coordinate_descent(\n"
     ]
    },
    {
     "name": "stdout",
     "output_type": "stream",
     "text": [
      "Lasso,     1 MSE: 20.2900\tMAPE: 0.0917\tR2: -0.1538\n",
      "Lasso,    10 MSE: 9.5193\tMAPE: 0.0644\tR2: 0.4587\n",
      "Lasso,   100 MSE: 9.4715\tMAPE: 0.0602\tR2: 0.4614\n",
      "Lasso,  1000 MSE: 11.9234\tMAPE: 0.0711\tR2: 0.3220\n",
      "Lasso, 10000 MSE: 16.1168\tMAPE: 0.0955\tR2: 0.0835\n",
      "Ridge,   0.1 MSE: 19.2410\tMAPE: 0.0886\tR2: -0.0941\n",
      "Ridge,     1 MSE: 19.2410\tMAPE: 0.0886\tR2: -0.0941\n",
      "Ridge,    10 MSE: 19.2409\tMAPE: 0.0886\tR2: -0.0941\n",
      "Ridge,   100 MSE: 19.2405\tMAPE: 0.0886\tR2: -0.0941\n",
      "Ridge,  1000 MSE: 19.2366\tMAPE: 0.0885\tR2: -0.0939\n",
      "Ridge, 10000 MSE: 19.1972\tMAPE: 0.0885\tR2: -0.0916\n"
     ]
    }
   ],
   "source": [
    "from sklearn.linear_model import LinearRegression\n",
    "from sklearn.linear_model import Lasso, Ridge\n",
    "from sklearn.metrics import  mean_squared_error, r2_score, mean_absolute_percentage_error, mean_absolute_error\n",
    "\n",
    "for Model, name in ((Lasso, \"Lasso\"), (Ridge, \"Ridge\")):\n",
    "    for alpha in [0.1, 1, 10, 100, 1_000, 10_000]:\n",
    "        model = Model(alpha=alpha, random_state=42)\n",
    "        model = model.fit(X_train, y_age_train)\n",
    "        y_age_pred = model.predict(X_test)\n",
    "    \n",
    "        mse = mean_squared_error(y_age_test, y_age_pred)\n",
    "        mape = mean_absolute_percentage_error(y_age_test, y_age_pred)\n",
    "        r2 = r2_score(y_age_test, y_age_pred)\n",
    "\n",
    "        print(f\"{name}, {alpha:>5} MSE: {mse:.4f}\\tMAPE: {mape:.4f}\\tR2: {r2:.4f}\")"
   ]
  },
  {
   "cell_type": "code",
   "execution_count": 5,
   "outputs": [
    {
     "name": "stdout",
     "output_type": "stream",
     "text": [
      "\n",
      "MSE:14.7516 MAE: 2.5726+-2.8519 MAPE: 0.0757+-0.0977 R2:0.1612\n",
      "\n",
      "MSE:10.5442 MAE: 2.1850+-2.4021 MAPE: 0.0646+-0.0836 R2:0.4004\n",
      "\n",
      "MSE: 8.6903 MAE: 1.9102+-2.2453 MAPE: 0.0567+-0.0807 R2:0.5058\n",
      "\n",
      "MSE: 9.1800 MAE: 1.9084+-2.3533 MAPE: 0.0572+-0.0862 R2:0.4780\n",
      "\n",
      "MSE: 8.2668 MAE: 1.7905+-2.2496 MAPE: 0.0538+-0.0834 R2:0.5299\n",
      "\n",
      "MSE: 7.5152 MAE: 1.7768+-2.0877 MAPE: 0.0531+-0.0785 R2:0.5727\n",
      "\n",
      "MSE: 7.6792 MAE: 1.7690+-2.1331 MAPE: 0.0532+-0.0807 R2:0.5633\n",
      "\n",
      "MSE: 7.7819 MAE: 1.7562+-2.1674 MAPE: 0.0531+-0.0820 R2:0.5575\n"
     ]
    }
   ],
   "source": [
    "from sklearn.ensemble import RandomForestRegressor\n",
    "for n_estimators in [1, 2, 3, 5, 10, 20, 40, 80]:\n",
    "    rf_regressor = RandomForestRegressor(n_estimators=n_estimators, random_state=42)\n",
    "    rf_regressor = rf_regressor.fit(X_train, y_age_train)\n",
    "    y_age_pred = rf_regressor.predict(X_test)\n",
    "    \n",
    "    mse = mean_squared_error(y_age_test, y_age_pred)\n",
    "    absolute_errors = np.abs(y_age_test - y_age_pred)\n",
    "    mae = np.mean(absolute_errors)\n",
    "    stdae = np.std(absolute_errors)\n",
    "    percentage_errors = absolute_errors / y_age_test\n",
    "    mape = np.mean(percentage_errors)\n",
    "    stdape = np.std(percentage_errors)\n",
    "    r2 = r2_score(y_age_test, y_age_pred)\n",
    "    \n",
    "    print(f\"\\nMSE:{mse:>7.4f} MAE:{mae:>7.4f}+-{stdae:>6.4f} MAPE:{mape:>7.4f}+-{stdape:>6.4f} R2:{r2:>6.4f}\")"
   ],
   "metadata": {
    "collapsed": false,
    "ExecuteTime": {
     "end_time": "2023-09-14T22:50:05.585618797Z",
     "start_time": "2023-09-14T22:46:06.453502310Z"
    }
   }
  },
  {
   "cell_type": "code",
   "execution_count": 6,
   "outputs": [
    {
     "data": {
      "text/plain": "19.22003087964745"
     },
     "execution_count": 6,
     "metadata": {},
     "output_type": "execute_result"
    }
   ],
   "source": [
    "np.var(y_age)"
   ],
   "metadata": {
    "collapsed": false,
    "ExecuteTime": {
     "end_time": "2023-09-14T22:50:05.588325928Z",
     "start_time": "2023-09-14T22:50:05.563876980Z"
    }
   }
  },
  {
   "cell_type": "code",
   "execution_count": 7,
   "metadata": {
    "ExecuteTime": {
     "end_time": "2023-09-14T22:50:05.666049737Z",
     "start_time": "2023-09-14T22:50:05.564057290Z"
    }
   },
   "outputs": [
    {
     "name": "stdout",
     "output_type": "stream",
     "text": [
      "Sex classification: Mean Acc. = 0.45901639344262296\n"
     ]
    }
   ],
   "source": [
    "from sklearn.naive_bayes import GaussianNB\n",
    "\n",
    "classifier = GaussianNB()\n",
    "classifier = classifier.fit(X_train, y_sex_train)\n",
    "Acc = classifier.score(X_test, y_sex_test)\n",
    "print(f\"Sex classification: Mean Acc. = {Acc}\")"
   ]
  },
  {
   "cell_type": "code",
   "execution_count": 8,
   "metadata": {
    "ExecuteTime": {
     "end_time": "2023-09-14T22:50:07.418857402Z",
     "start_time": "2023-09-14T22:50:05.657081303Z"
    }
   },
   "outputs": [
    {
     "name": "stdout",
     "output_type": "stream",
     "text": [
      "Accuracy: 0.57\n",
      "Classification Report:\n",
      "               precision    recall  f1-score   support\n",
      "\n",
      "           0       0.61      0.63      0.62        68\n",
      "           1       0.51      0.48      0.50        54\n",
      "\n",
      "    accuracy                           0.57       122\n",
      "   macro avg       0.56      0.56      0.56       122\n",
      "weighted avg       0.56      0.57      0.56       122\n",
      "\n",
      "Confusion Matrix:\n",
      " [[43 25]\n",
      " [28 26]]\n",
      "\n",
      "Acc:0.5656\n",
      "Accuracy report:               precision    recall  f1-score   support\n",
      "\n",
      "           0       0.61      0.63      0.62        68\n",
      "           1       0.51      0.48      0.50        54\n",
      "\n",
      "    accuracy                           0.57       122\n",
      "   macro avg       0.56      0.56      0.56       122\n",
      "weighted avg       0.56      0.57      0.56       122\n",
      "\n",
      "Confusion matrix: [[43 25]\n",
      " [28 26]]\n",
      "Accuracy: 0.59\n",
      "Classification Report:\n",
      "               precision    recall  f1-score   support\n",
      "\n",
      "           0       0.59      0.84      0.70        68\n",
      "           1       0.58      0.28      0.38        54\n",
      "\n",
      "    accuracy                           0.59       122\n",
      "   macro avg       0.59      0.56      0.54       122\n",
      "weighted avg       0.59      0.59      0.55       122\n",
      "\n",
      "Confusion Matrix:\n",
      " [[57 11]\n",
      " [39 15]]\n",
      "\n",
      "Acc:0.5902\n",
      "Accuracy report:               precision    recall  f1-score   support\n",
      "\n",
      "           0       0.59      0.84      0.70        68\n",
      "           1       0.58      0.28      0.38        54\n",
      "\n",
      "    accuracy                           0.59       122\n",
      "   macro avg       0.59      0.56      0.54       122\n",
      "weighted avg       0.59      0.59      0.55       122\n",
      "\n",
      "Confusion matrix: [[57 11]\n",
      " [39 15]]\n",
      "Accuracy: 0.55\n",
      "Classification Report:\n",
      "               precision    recall  f1-score   support\n",
      "\n",
      "           0       0.60      0.59      0.59        68\n",
      "           1       0.49      0.50      0.50        54\n",
      "\n",
      "    accuracy                           0.55       122\n",
      "   macro avg       0.54      0.54      0.54       122\n",
      "weighted avg       0.55      0.55      0.55       122\n",
      "\n",
      "Confusion Matrix:\n",
      " [[40 28]\n",
      " [27 27]]\n",
      "\n",
      "Acc:0.5492\n",
      "Accuracy report:               precision    recall  f1-score   support\n",
      "\n",
      "           0       0.60      0.59      0.59        68\n",
      "           1       0.49      0.50      0.50        54\n",
      "\n",
      "    accuracy                           0.55       122\n",
      "   macro avg       0.54      0.54      0.54       122\n",
      "weighted avg       0.55      0.55      0.55       122\n",
      "\n",
      "Confusion matrix: [[40 28]\n",
      " [27 27]]\n",
      "Accuracy: 0.61\n",
      "Classification Report:\n",
      "               precision    recall  f1-score   support\n",
      "\n",
      "           0       0.67      0.62      0.64        68\n",
      "           1       0.56      0.61      0.58        54\n",
      "\n",
      "    accuracy                           0.61       122\n",
      "   macro avg       0.61      0.61      0.61       122\n",
      "weighted avg       0.62      0.61      0.62       122\n",
      "\n",
      "Confusion Matrix:\n",
      " [[42 26]\n",
      " [21 33]]\n",
      "\n",
      "Acc:0.6148\n",
      "Accuracy report:               precision    recall  f1-score   support\n",
      "\n",
      "           0       0.67      0.62      0.64        68\n",
      "           1       0.56      0.61      0.58        54\n",
      "\n",
      "    accuracy                           0.61       122\n",
      "   macro avg       0.61      0.61      0.61       122\n",
      "weighted avg       0.62      0.61      0.62       122\n",
      "\n",
      "Confusion matrix: [[42 26]\n",
      " [21 33]]\n",
      "Accuracy: 0.57\n",
      "Classification Report:\n",
      "               precision    recall  f1-score   support\n",
      "\n",
      "           0       0.60      0.66      0.63        68\n",
      "           1       0.51      0.44      0.48        54\n",
      "\n",
      "    accuracy                           0.57       122\n",
      "   macro avg       0.56      0.55      0.55       122\n",
      "weighted avg       0.56      0.57      0.56       122\n",
      "\n",
      "Confusion Matrix:\n",
      " [[45 23]\n",
      " [30 24]]\n",
      "\n",
      "Acc:0.5656\n",
      "Accuracy report:               precision    recall  f1-score   support\n",
      "\n",
      "           0       0.60      0.66      0.63        68\n",
      "           1       0.51      0.44      0.48        54\n",
      "\n",
      "    accuracy                           0.57       122\n",
      "   macro avg       0.56      0.55      0.55       122\n",
      "weighted avg       0.56      0.57      0.56       122\n",
      "\n",
      "Confusion matrix: [[45 23]\n",
      " [30 24]]\n",
      "Accuracy: 0.49\n",
      "Classification Report:\n",
      "               precision    recall  f1-score   support\n",
      "\n",
      "           0       0.54      0.57      0.56        68\n",
      "           1       0.42      0.39      0.40        54\n",
      "\n",
      "    accuracy                           0.49       122\n",
      "   macro avg       0.48      0.48      0.48       122\n",
      "weighted avg       0.49      0.49      0.49       122\n",
      "\n",
      "Confusion Matrix:\n",
      " [[39 29]\n",
      " [33 21]]\n",
      "\n",
      "Acc:0.4918\n",
      "Accuracy report:               precision    recall  f1-score   support\n",
      "\n",
      "           0       0.54      0.57      0.56        68\n",
      "           1       0.42      0.39      0.40        54\n",
      "\n",
      "    accuracy                           0.49       122\n",
      "   macro avg       0.48      0.48      0.48       122\n",
      "weighted avg       0.49      0.49      0.49       122\n",
      "\n",
      "Confusion matrix: [[39 29]\n",
      " [33 21]]\n",
      "Accuracy: 0.57\n",
      "Classification Report:\n",
      "               precision    recall  f1-score   support\n",
      "\n",
      "           0       0.59      0.69      0.64        68\n",
      "           1       0.51      0.41      0.45        54\n",
      "\n",
      "    accuracy                           0.57       122\n",
      "   macro avg       0.55      0.55      0.55       122\n",
      "weighted avg       0.56      0.57      0.56       122\n",
      "\n",
      "Confusion Matrix:\n",
      " [[47 21]\n",
      " [32 22]]\n",
      "\n",
      "Acc:0.5656\n",
      "Accuracy report:               precision    recall  f1-score   support\n",
      "\n",
      "           0       0.59      0.69      0.64        68\n",
      "           1       0.51      0.41      0.45        54\n",
      "\n",
      "    accuracy                           0.57       122\n",
      "   macro avg       0.55      0.55      0.55       122\n",
      "weighted avg       0.56      0.57      0.56       122\n",
      "\n",
      "Confusion matrix: [[47 21]\n",
      " [32 22]]\n",
      "Accuracy: 0.53\n",
      "Classification Report:\n",
      "               precision    recall  f1-score   support\n",
      "\n",
      "           0       0.57      0.68      0.62        68\n",
      "           1       0.46      0.35      0.40        54\n",
      "\n",
      "    accuracy                           0.53       122\n",
      "   macro avg       0.52      0.51      0.51       122\n",
      "weighted avg       0.52      0.53      0.52       122\n",
      "\n",
      "Confusion Matrix:\n",
      " [[46 22]\n",
      " [35 19]]\n",
      "\n",
      "Acc:0.5328\n",
      "Accuracy report:               precision    recall  f1-score   support\n",
      "\n",
      "           0       0.57      0.68      0.62        68\n",
      "           1       0.46      0.35      0.40        54\n",
      "\n",
      "    accuracy                           0.53       122\n",
      "   macro avg       0.52      0.51      0.51       122\n",
      "weighted avg       0.52      0.53      0.52       122\n",
      "\n",
      "Confusion matrix: [[46 22]\n",
      " [35 19]]\n"
     ]
    }
   ],
   "source": [
    "from sklearn.ensemble import RandomForestClassifier\n",
    "from sklearn.metrics import accuracy_score, classification_report, confusion_matrix\n",
    "\n",
    "y_sex_train = y_sex_train.astype(int)\n",
    "y_sex_test = y_sex_test.astype(int)\n",
    "\n",
    "for n_estimators in [1, 2, 3, 5, 10, 20, 40, 80]:\n",
    "    rf_classifier = RandomForestClassifier(n_estimators=n_estimators, random_state=42)\n",
    "    rf_classifier = rf_classifier.fit(X_train, y_sex_train)\n",
    "    y_sex_pred = rf_classifier.predict(X_test)\n",
    "    \n",
    "    accuracy = accuracy_score(y_sex_test, y_sex_pred)\n",
    "    report = classification_report(y_sex_test, y_sex_pred)\n",
    "    conf_matrix = confusion_matrix(y_sex_test, y_sex_pred)\n",
    "    \n",
    "    print(f\"Accuracy: {accuracy:.2f}\")\n",
    "    print(\"Classification Report:\\n\", report)\n",
    "    print(\"Confusion Matrix:\\n\", conf_matrix)\n",
    "    \n",
    "    print(f\"\\nAcc:{accuracy:>6.4f}\\nAccuracy report: {report}\\nConfusion matrix: {conf_matrix}\")"
   ]
  }
 ],
 "metadata": {
  "kernelspec": {
   "display_name": "venv",
   "language": "python",
   "name": "python3"
  },
  "language_info": {
   "codemirror_mode": {
    "name": "ipython",
    "version": 3
   },
   "file_extension": ".py",
   "mimetype": "text/x-python",
   "name": "python",
   "nbconvert_exporter": "python",
   "pygments_lexer": "ipython3",
   "version": "3.11.3"
  },
  "orig_nbformat": 4
 },
 "nbformat": 4,
 "nbformat_minor": 2
}
